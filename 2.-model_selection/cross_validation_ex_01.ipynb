{
 "cells": [
  {
   "cell_type": "markdown",
   "id": "f5795cf7",
   "metadata": {},
   "source": [
    "# 📝 Exercise M2.01\n",
    "\n",
    "The aim of this exercise is to make the following experiments:\n",
    "\n",
    "* train and test a support vector machine classifier through\n",
    "  cross-validation;\n",
    "* study the effect of the parameter gamma of this classifier using a\n",
    "  validation curve;\n",
    "* use a learning curve to determine the usefulness of adding new\n",
    "  samples in the dataset when building a classifier.\n",
    "\n",
    "To make these experiments we will first load the blood transfusion dataset."
   ]
  },
  {
   "cell_type": "markdown",
   "id": "8d9de906",
   "metadata": {},
   "source": [
    "<div class=\"admonition note alert alert-info\">\n",
    "<p class=\"first admonition-title\" style=\"font-weight: bold;\">Note</p>\n",
    "<p class=\"last\">If you want a deeper overview regarding this dataset, you can refer to the\n",
    "Appendix - Datasets description section at the end of this MOOC.</p>\n",
    "</div>"
   ]
  },
  {
   "cell_type": "code",
   "execution_count": 1,
   "id": "717b57a2",
   "metadata": {},
   "outputs": [],
   "source": [
    "import pandas as pd\n",
    "\n",
    "blood_transfusion = pd.read_csv(\"../datasets/blood_transfusion.csv\")\n",
    "data = blood_transfusion.drop(columns=\"Class\")\n",
    "target = blood_transfusion[\"Class\"]"
   ]
  },
  {
   "cell_type": "markdown",
   "id": "78cdc981",
   "metadata": {},
   "source": [
    "We will use a support vector machine classifier (SVM). In its most simple\n",
    "form, a SVM classifier is a linear classifier behaving similarly to a\n",
    "logistic regression. Indeed, the optimization used to find the optimal\n",
    "weights of the linear model are different but we don't need to know these\n",
    "details for the exercise.\n",
    "\n",
    "Also, this classifier can become more flexible/expressive by using a\n",
    "so-called kernel that makes the model become non-linear. Again, no requirement\n",
    "regarding the mathematics is required to accomplish this exercise.\n",
    "\n",
    "We will use an RBF kernel where a parameter `gamma` allows to tune the\n",
    "flexibility of the model.\n",
    "\n",
    "First let's create a predictive pipeline made of:\n",
    "\n",
    "* a [`sklearn.preprocessing.StandardScaler`](https://scikit-learn.org/stable/modules/generated/sklearn.preprocessing.StandardScaler.html)\n",
    "  with default parameter;\n",
    "* a [`sklearn.svm.SVC`](https://scikit-learn.org/stable/modules/generated/sklearn.svm.SVC.html)\n",
    "  where the parameter `kernel` could be set to `\"rbf\"`. Note that this is the\n",
    "  default."
   ]
  },
  {
   "cell_type": "code",
   "execution_count": 58,
   "id": "97eac96b",
   "metadata": {},
   "outputs": [],
   "source": [
    "# Write your code here.\n",
    "from sklearn.preprocessing import StandardScaler\n",
    "from sklearn.svm import SVC\n",
    "\n",
    "scaler = StandardScaler()\n",
    "svc = SVC(kernel='rbf')\n",
    "\n"
   ]
  },
  {
   "cell_type": "markdown",
   "id": "cfef36af",
   "metadata": {},
   "source": [
    "Evaluate the generalization performance of your model by cross-validation with a\n",
    "`ShuffleSplit` scheme. Thus, you can use\n",
    "[`sklearn.model_selection.cross_validate`](https://scikit-learn.org/stable/modules/generated/sklearn.model_selection.cross_validate.html)\n",
    "and pass a [`sklearn.model_selection.ShuffleSplit`](https://scikit-learn.org/stable/modules/generated/sklearn.model_selection.ShuffleSplit.html)\n",
    "to the `cv` parameter. Only fix the `random_state=0` in the `ShuffleSplit`\n",
    "and let the other parameters to the default."
   ]
  },
  {
   "cell_type": "code",
   "execution_count": 60,
   "id": "2cf24d3c",
   "metadata": {},
   "outputs": [
    {
     "name": "stdout",
     "output_type": "stream",
     "text": [
      "\n",
      " Test size:  0.1\n",
      "[0.68       0.74666667 0.76       0.81333333 0.73333333 0.77333333\n",
      " 0.77333333 0.8        0.77333333 0.74666667]\n",
      "\n",
      " Test size:  0.2\n",
      "[0.72666667 0.74       0.78       0.78       0.71333333 0.77333333\n",
      " 0.74       0.82666667 0.76       0.79333333]\n",
      "\n",
      " Test size:  0.3\n",
      "[0.72888889 0.75555556 0.78222222 0.73333333 0.75111111 0.76444444\n",
      " 0.76       0.79111111 0.73777778 0.77777778]\n",
      "\n",
      " Test size:  0.4\n",
      "[0.75333333 0.74666667 0.76666667 0.74666667 0.77666667 0.77333333\n",
      " 0.77       0.78       0.75       0.79      ]\n",
      "\n",
      " Test size:  0.5\n",
      "[0.76203209 0.74331551 0.76203209 0.76203209 0.75935829 0.77005348\n",
      " 0.7513369  0.77540107 0.7513369  0.78877005]\n",
      "\n",
      " Test size:  0.6\n",
      "[0.76614699 0.76614699 0.76391982 0.74610245 0.75501114 0.76837416\n",
      " 0.75501114 0.76614699 0.76614699 0.77060134]\n",
      "\n",
      " Test size:  0.7\n",
      "[0.75954198 0.75954198 0.77480916 0.74618321 0.75954198 0.76335878\n",
      " 0.76335878 0.75572519 0.75572519 0.76717557]\n",
      "\n",
      " Test size:  0.8\n",
      "[0.76794658 0.76293823 0.77462437 0.75959933 0.76293823 0.76293823\n",
      " 0.77629382 0.76126878 0.76794658 0.76794658]\n",
      "\n",
      " Test size:  0.9\n",
      "[0.76854599 0.76557864 0.77002967 0.75964392 0.75964392 0.76706231\n",
      " 0.76261128 0.76854599 0.76261128 0.75667656]\n"
     ]
    }
   ],
   "source": [
    "for i in range(1, 10):\n",
    "    ts = i / 10\n",
    "    print(\"\\n Test size: \", ts)\n",
    "    ss = ShuffleSplit(random_state = 0, test_size = ts)\n",
    "    svc = SVC(kernel='rbf')\n",
    "    print(cross_validate(svc, data, target, cv = ss)['test_score'])"
   ]
  },
  {
   "cell_type": "markdown",
   "id": "e39d0a03",
   "metadata": {},
   "source": [
    "PODEMOS VER QUE CON CROSS VALID ALEATORIO VARIANDOLO DE 10 EN 10 DESDE EL 10 AL 90 SACAMOS RESULTADOS SIMILARES. LO CUAL ME ESCAMA. SÍ QUE ES VERDAD QUE HE COMPRADO SI ES POSIBLE HACIENDO LAS PARTICIONES SIN ALEATORIERDAD Y A MANO Y RÁPIDAMENTE SE SATURA EN PERFORMANCE:"
   ]
  },
  {
   "cell_type": "code",
   "execution_count": 61,
   "id": "a83f2a34",
   "metadata": {},
   "outputs": [
    {
     "name": "stdout",
     "output_type": "stream",
     "text": [
      " Train sample 10% Total shape 748  and train-test shapes ((74, 4), (674, 4))\n",
      "% of accuracy ==> 20.33%\n",
      " \n",
      " Train sample 20% Total shape 748  and train-test shapes ((149, 4), (599, 4))\n",
      "% of accuracy ==> 81.47%\n",
      " \n",
      " Train sample 30% Total shape 748  and train-test shapes ((224, 4), (524, 4))\n",
      "% of accuracy ==> 82.06%\n",
      " \n",
      " Train sample 40% Total shape 748  and train-test shapes ((299, 4), (449, 4))\n",
      "% of accuracy ==> 82.63%\n",
      " \n",
      " Train sample 50% Total shape 748  and train-test shapes ((374, 4), (374, 4))\n",
      "% of accuracy ==> 82.09%\n",
      " \n",
      " Train sample 60% Total shape 748  and train-test shapes ((448, 4), (300, 4))\n",
      "% of accuracy ==> 79.0%\n",
      " \n",
      " Train sample 70% Total shape 748  and train-test shapes ((523, 4), (225, 4))\n",
      "% of accuracy ==> 80.44%\n",
      " \n",
      " Train sample 80% Total shape 748  and train-test shapes ((598, 4), (150, 4))\n",
      "% of accuracy ==> 90.67%\n",
      " \n",
      " Train sample 90% Total shape 748  and train-test shapes ((673, 4), (75, 4))\n",
      "% of accuracy ==> 93.33%\n",
      " \n"
     ]
    }
   ],
   "source": [
    "import numpy as np\n",
    "\n",
    "for i in range(1, 10):\n",
    "    s = int(data.shape[0] * i/10)\n",
    "    x_train, y_train = data[0:s], target[0:s]\n",
    "    x_test, y_test = data[s:], target[s:]\n",
    "    print(f\" Train sample {i*10}% Total shape {data.shape[0]}  and train-test shapes {x_train.shape, x_test.shape}\")\n",
    "    svc = SVC(kernel='rbf')\n",
    "    svc.fit(x_train, y_train)\n",
    "    print(f\"% of accuracy ==> {np.round(sum(svc.predict(x_test) == y_test) / y_test.shape[0] *100, 2)}%\")\n",
    "    print(\" \")"
   ]
  },
  {
   "cell_type": "code",
   "execution_count": 74,
   "id": "c927ec94",
   "metadata": {},
   "outputs": [
    {
     "name": "stdout",
     "output_type": "stream",
     "text": [
      " Por default se utiliza un 10% del dataset como test\n"
     ]
    },
    {
     "data": {
      "text/html": [
       "<div>\n",
       "<style scoped>\n",
       "    .dataframe tbody tr th:only-of-type {\n",
       "        vertical-align: middle;\n",
       "    }\n",
       "\n",
       "    .dataframe tbody tr th {\n",
       "        vertical-align: top;\n",
       "    }\n",
       "\n",
       "    .dataframe thead th {\n",
       "        text-align: right;\n",
       "    }\n",
       "</style>\n",
       "<table border=\"1\" class=\"dataframe\">\n",
       "  <thead>\n",
       "    <tr style=\"text-align: right;\">\n",
       "      <th></th>\n",
       "      <th>fit_time</th>\n",
       "      <th>score_time</th>\n",
       "      <th>test_score</th>\n",
       "    </tr>\n",
       "  </thead>\n",
       "  <tbody>\n",
       "    <tr>\n",
       "      <th>0</th>\n",
       "      <td>0.022602</td>\n",
       "      <td>0.003109</td>\n",
       "      <td>0.680000</td>\n",
       "    </tr>\n",
       "    <tr>\n",
       "      <th>1</th>\n",
       "      <td>0.020779</td>\n",
       "      <td>0.002960</td>\n",
       "      <td>0.746667</td>\n",
       "    </tr>\n",
       "    <tr>\n",
       "      <th>2</th>\n",
       "      <td>0.020460</td>\n",
       "      <td>0.004738</td>\n",
       "      <td>0.786667</td>\n",
       "    </tr>\n",
       "    <tr>\n",
       "      <th>3</th>\n",
       "      <td>0.019511</td>\n",
       "      <td>0.002913</td>\n",
       "      <td>0.800000</td>\n",
       "    </tr>\n",
       "    <tr>\n",
       "      <th>4</th>\n",
       "      <td>0.020061</td>\n",
       "      <td>0.002882</td>\n",
       "      <td>0.746667</td>\n",
       "    </tr>\n",
       "    <tr>\n",
       "      <th>5</th>\n",
       "      <td>0.018230</td>\n",
       "      <td>0.005692</td>\n",
       "      <td>0.786667</td>\n",
       "    </tr>\n",
       "    <tr>\n",
       "      <th>6</th>\n",
       "      <td>0.025802</td>\n",
       "      <td>0.003544</td>\n",
       "      <td>0.800000</td>\n",
       "    </tr>\n",
       "    <tr>\n",
       "      <th>7</th>\n",
       "      <td>0.024041</td>\n",
       "      <td>0.002939</td>\n",
       "      <td>0.826667</td>\n",
       "    </tr>\n",
       "    <tr>\n",
       "      <th>8</th>\n",
       "      <td>0.018233</td>\n",
       "      <td>0.002877</td>\n",
       "      <td>0.746667</td>\n",
       "    </tr>\n",
       "    <tr>\n",
       "      <th>9</th>\n",
       "      <td>0.018304</td>\n",
       "      <td>0.002945</td>\n",
       "      <td>0.733333</td>\n",
       "    </tr>\n",
       "  </tbody>\n",
       "</table>\n",
       "</div>"
      ],
      "text/plain": [
       "   fit_time  score_time  test_score\n",
       "0  0.022602    0.003109    0.680000\n",
       "1  0.020779    0.002960    0.746667\n",
       "2  0.020460    0.004738    0.786667\n",
       "3  0.019511    0.002913    0.800000\n",
       "4  0.020061    0.002882    0.746667\n",
       "5  0.018230    0.005692    0.786667\n",
       "6  0.025802    0.003544    0.800000\n",
       "7  0.024041    0.002939    0.826667\n",
       "8  0.018233    0.002877    0.746667\n",
       "9  0.018304    0.002945    0.733333"
      ]
     },
     "execution_count": 74,
     "metadata": {},
     "output_type": "execute_result"
    }
   ],
   "source": [
    "from sklearn.pipeline import make_pipeline\n",
    "model = make_pipeline(StandardScaler(), SVC())\n",
    "\n",
    "print(\" Por default se utiliza un 10% del dataset como test\")\n",
    "cv = ShuffleSplit(random_state=0)\n",
    "cv_results = cross_validate(model, data, target, cv=cv, n_jobs=2)\n",
    "cv_results = pd.DataFrame(cv_results)\n",
    "cv_results"
   ]
  },
  {
   "cell_type": "code",
   "execution_count": 75,
   "id": "15474a1b",
   "metadata": {},
   "outputs": [
    {
     "name": "stdout",
     "output_type": "stream",
     "text": [
      "Accuracy score of our model:\n",
      "0.765 +/- 0.043\n"
     ]
    }
   ],
   "source": [
    "print(\n",
    "    f\"Accuracy score of our model:\\n\"\n",
    "    f\"{cv_results['test_score'].mean():.3f} +/- \"\n",
    "    f\"{cv_results['test_score'].std():.3f}\"\n",
    ")"
   ]
  },
  {
   "cell_type": "markdown",
   "id": "615d9c57",
   "metadata": {},
   "source": [
    "As previously mentioned, the parameter `gamma` is one of the parameters\n",
    "controlling under/over-fitting in support vector machine with an RBF kernel.\n",
    "\n",
    "Evaluate the effect of the parameter `gamma` by using the\n",
    "[`sklearn.model_selection.validation_curve`](https://scikit-learn.org/stable/modules/generated/sklearn.model_selection.validation_curve.html) function.\n",
    "You can leave the default `scoring=None` which is equivalent to\n",
    "`scoring=\"accuracy\"` for classification problems. You can vary `gamma`\n",
    "between `10e-3` and `10e2` by generating samples on a logarithmic scale\n",
    "with the help of `np.logspace(-3, 2, num=30)`.\n",
    "\n",
    "Since we are manipulating a `Pipeline` the parameter name will be set to\n",
    "`svc__gamma` instead of only `gamma`. You can retrieve the parameter name\n",
    "using `model.get_params().keys()`. We will go more into detail regarding\n",
    "accessing and setting hyperparameter in the next section."
   ]
  },
  {
   "cell_type": "code",
   "execution_count": 76,
   "id": "a56c9ed6",
   "metadata": {},
   "outputs": [],
   "source": [
    "# Write your code here.\n",
    "# solution\n",
    "import numpy as np\n",
    "from sklearn.model_selection import validation_curve\n",
    "\n",
    "gammas = np.logspace(-3, 2, num=30)\n",
    "param_name = \"svc__gamma\"\n",
    "train_scores, test_scores = validation_curve(\n",
    "    model, data, target, param_name=param_name, param_range=gammas, cv=cv,\n",
    "    n_jobs=2)"
   ]
  },
  {
   "cell_type": "markdown",
   "id": "cecee9e9",
   "metadata": {},
   "source": [
    "Plot the validation curve for the train and test scores."
   ]
  },
  {
   "cell_type": "code",
   "execution_count": 77,
   "id": "76b7a9ae",
   "metadata": {},
   "outputs": [
    {
     "data": {
      "image/png": "[encoded data removed]",
      "text/plain": [
       "<Figure size 432x288 with 1 Axes>"
      ]
     },
     "metadata": {
      "needs_background": "light"
     },
     "output_type": "display_data"
    }
   ],
   "source": [
    "# Write your code here.\n",
    "# solution\n",
    "import matplotlib.pyplot as plt\n",
    "\n",
    "plt.errorbar(\n",
    "    gammas,\n",
    "    train_scores.mean(axis=1),\n",
    "    yerr=train_scores.std(axis=1),\n",
    "    alpha=0.95,\n",
    "    label=\"Training score\",\n",
    ")\n",
    "plt.errorbar(\n",
    "    gammas,\n",
    "    test_scores.mean(axis=1),\n",
    "    yerr=test_scores.std(axis=1),\n",
    "    alpha=0.5,\n",
    "    label=\"Testing score\",\n",
    ")\n",
    "plt.legend()\n",
    "\n",
    "plt.xscale(\"log\")\n",
    "plt.xlabel(r\"Value of hyperparameter $\\gamma$\")\n",
    "plt.ylabel(\"Accuracy score\")\n",
    "_ = plt.title(\"Validation score of support vector machine\")\n"
   ]
  },
  {
   "cell_type": "markdown",
   "id": "997f1776",
   "metadata": {},
   "source": [
    "Now, you can perform an analysis to check whether adding new samples to the\n",
    "dataset could help our model to better generalize. Compute the learning curve\n",
    "(using [`sklearn.model_selection.learning_curve`](https://scikit-learn.org/stable/modules/generated/sklearn.model_selection.learning_curve.html))\n",
    "by computing the train and test scores for different training dataset size.\n",
    "Plot the train and test scores with respect to the number of samples."
   ]
  },
  {
   "cell_type": "code",
   "execution_count": 78,
   "id": "dee97335",
   "metadata": {},
   "outputs": [
    {
     "data": {
      "image/png": "[encoded data removed]",
      "text/plain": [
       "<Figure size 432x288 with 1 Axes>"
      ]
     },
     "metadata": {
      "needs_background": "light"
     },
     "output_type": "display_data"
    }
   ],
   "source": [
    "# Write your code here.\n",
    "\n",
    "# solution\n",
    "from sklearn.model_selection import learning_curve\n",
    "\n",
    "train_sizes = np.linspace(0.1, 1, num=10)\n",
    "results = learning_curve(\n",
    "    model, data, target, train_sizes=train_sizes, cv=cv, n_jobs=2)\n",
    "train_size, train_scores, test_scores = results[:3]\n",
    "\n",
    "plt.errorbar(\n",
    "    train_size,\n",
    "    train_scores.mean(axis=1),\n",
    "    yerr=train_scores.std(axis=1),\n",
    "    alpha=0.95,\n",
    "    label=\"Training score\",\n",
    ")\n",
    "plt.errorbar(\n",
    "    train_size,\n",
    "    test_scores.mean(axis=1),\n",
    "    yerr=test_scores.std(axis=1),\n",
    "    alpha=0.5,\n",
    "    label=\"Testing score\",\n",
    ")\n",
    "plt.legend(bbox_to_anchor=(1.05, 0.8), loc=\"upper left\")\n",
    "\n",
    "plt.xlabel(\"Number of samples in the training set\")\n",
    "plt.ylabel(\"Accuracy\")\n",
    "_ = plt.title(\"Learning curve for support vector machine\")"
   ]
  }
 ],
 "metadata": {
  "jupytext": {
   "main_language": "python"
  },
  "kernelspec": {
   "display_name": "Python 3 (ipykernel)",
   "language": "python",
   "name": "python3"
  },
  "language_info": {
   "codemirror_mode": {
    "name": "ipython",
    "version": 3
   },
   "file_extension": ".py",
   "mimetype": "text/x-python",
   "name": "python",
   "nbconvert_exporter": "python",
   "pygments_lexer": "ipython3",
   "version": "3.9.10"
  },
  "nbreset": "https://raw.githubusercontent.com/INRIA/scikit-learn-mooc/main/notebooks/cross_validation_ex_01.ipynb"
 },
 "nbformat": 4,
 "nbformat_minor": 5
}
