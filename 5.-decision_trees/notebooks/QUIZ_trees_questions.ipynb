{
 "cells": [
  {
   "cell_type": "code",
   "execution_count": 1,
   "metadata": {},
   "outputs": [
    {
     "data": {
      "text/plain": [
       "LotFrontage      0.334901\n",
       "LotArea          0.263843\n",
       "MasVnrArea       0.475241\n",
       "BsmtFinSF1       0.386420\n",
       "BsmtFinSF2      -0.011378\n",
       "BsmtUnfSF        0.214479\n",
       "TotalBsmtSF      0.613581\n",
       "1stFlrSF         0.605852\n",
       "2ndFlrSF         0.319334\n",
       "LowQualFinSF    -0.025606\n",
       "GrLivArea        0.708624\n",
       "BedroomAbvGr     0.168213\n",
       "KitchenAbvGr    -0.135907\n",
       "TotRmsAbvGrd     0.533723\n",
       "Fireplaces       0.466929\n",
       "GarageCars       0.640409\n",
       "GarageArea       0.623431\n",
       "WoodDeckSF       0.324413\n",
       "OpenPorchSF      0.315856\n",
       "EnclosedPorch   -0.128578\n",
       "3SsnPorch        0.044584\n",
       "ScreenPorch      0.111447\n",
       "PoolArea         0.092404\n",
       "MiscVal         -0.021190\n",
       "SalePrice        1.000000\n",
       "Name: SalePrice, dtype: float64"
      ]
     },
     "execution_count": 1,
     "metadata": {},
     "output_type": "execute_result"
    }
   ],
   "source": [
    "import pandas as pd\n",
    "\n",
    "ames_housing = pd.read_csv(\"../datasets/ames_housing_no_missing.csv\")\n",
    "target_name = \"SalePrice\"\n",
    "numerical_features = [\n",
    "    \"LotFrontage\", \"LotArea\", \"MasVnrArea\", \"BsmtFinSF1\", \"BsmtFinSF2\",\n",
    "    \"BsmtUnfSF\", \"TotalBsmtSF\", \"1stFlrSF\", \"2ndFlrSF\", \"LowQualFinSF\",\n",
    "    \"GrLivArea\", \"BedroomAbvGr\", \"KitchenAbvGr\", \"TotRmsAbvGrd\", \"Fireplaces\",\n",
    "    \"GarageCars\", \"GarageArea\", \"WoodDeckSF\", \"OpenPorchSF\", \"EnclosedPorch\",\n",
    "    \"3SsnPorch\", \"ScreenPorch\", \"PoolArea\", \"MiscVal\",\n",
    "]\n",
    "\n",
    "\n",
    "\n",
    "data = ames_housing.drop(columns=target_name)\n",
    "data_numerical = data[numerical_features]\n",
    "target = ames_housing[target_name]\n",
    "ames_housing[numerical_features + [target_name]].corr()[\"SalePrice\"]"
   ]
  },
  {
   "cell_type": "code",
   "execution_count": 2,
   "metadata": {},
   "outputs": [
    {
     "data": {
      "image/png": "[encoded data removed]",
      "text/plain": [
       "<Figure size 288x288 with 1 Axes>"
      ]
     },
     "metadata": {
      "needs_background": "light"
     },
     "output_type": "display_data"
    }
   ],
   "source": [
    "import matplotlib.pyplot as plt\n",
    "\n",
    "plt.matshow(ames_housing[numerical_features + [target_name]].corr())\n",
    "plt.show()"
   ]
  },
  {
   "cell_type": "code",
   "execution_count": 3,
   "metadata": {},
   "outputs": [
    {
     "data": {
      "text/plain": [
       "<AxesSubplot:>"
      ]
     },
     "execution_count": 3,
     "metadata": {},
     "output_type": "execute_result"
    },
    {
     "data": {
      "image/png": "[encoded data removed]",
      "text/plain": [
       "<Figure size 432x288 with 1 Axes>"
      ]
     },
     "metadata": {
      "needs_background": "light"
     },
     "output_type": "display_data"
    }
   ],
   "source": [
    "target.plot()"
   ]
  },
  {
   "cell_type": "markdown",
   "metadata": {},
   "source": [
    "We will compare the generalization performance of a decision tree and a linear regression. For this purpose, we will create two separate predictive models and evaluate them by 10-fold cross-validation.\n",
    "\n",
    "Thus, use sklearn.linear_model.LinearRegression and sklearn.tree.DecisionTreeRegressor to create the models. Use the default parameters for both models.\n",
    "\n",
    "Be aware that a linear model requires to scale numerical features. Please use sklearn.preprocessing.StandardScaler so that your linear regression model behaves the same way as the quiz author intended ;)"
   ]
  },
  {
   "cell_type": "markdown",
   "metadata": {},
   "source": [
    "## Question 1 (1 point possible)\n",
    "By comparing the cross-validation test scores for both models fold-to-fold, count the number of times the linear model has a better test score than the decision tree model. Select the range which this number belongs to:\n",
    "\n",
    " a) [0, 3]: the linear model is substantially worse than the decision tree \n",
    " \n",
    " b) [4, 6]: both models are almost equivalent \n",
    " \n",
    " c) [7, 10]: the linear model is substantially better than the decision tree"
   ]
  },
  {
   "cell_type": "code",
   "execution_count": 12,
   "metadata": {},
   "outputs": [
    {
     "data": {
      "text/plain": [
       "((10,), (10,))"
      ]
     },
     "execution_count": 12,
     "metadata": {},
     "output_type": "execute_result"
    }
   ],
   "source": [
    "df[\"reg\"].shape, df[\"tree\"].shape"
   ]
  },
  {
   "cell_type": "code",
   "execution_count": 22,
   "metadata": {},
   "outputs": [
    {
     "data": {
      "text/html": [
       "<div>\n",
       "<style scoped>\n",
       "    .dataframe tbody tr th:only-of-type {\n",
       "        vertical-align: middle;\n",
       "    }\n",
       "\n",
       "    .dataframe tbody tr th {\n",
       "        vertical-align: top;\n",
       "    }\n",
       "\n",
       "    .dataframe thead th {\n",
       "        text-align: right;\n",
       "    }\n",
       "</style>\n",
       "<table border=\"1\" class=\"dataframe\">\n",
       "  <thead>\n",
       "    <tr style=\"text-align: right;\">\n",
       "      <th></th>\n",
       "      <th>reg</th>\n",
       "      <th>tree</th>\n",
       "      <th>Tree_wins?</th>\n",
       "    </tr>\n",
       "  </thead>\n",
       "  <tbody>\n",
       "    <tr>\n",
       "      <th>0</th>\n",
       "      <td>-1.107287e+09</td>\n",
       "      <td>-1.995138e+09</td>\n",
       "      <td>False</td>\n",
       "    </tr>\n",
       "    <tr>\n",
       "      <th>1</th>\n",
       "      <td>-1.224279e+09</td>\n",
       "      <td>-1.764473e+09</td>\n",
       "      <td>False</td>\n",
       "    </tr>\n",
       "    <tr>\n",
       "      <th>2</th>\n",
       "      <td>-1.181252e+09</td>\n",
       "      <td>-1.842761e+09</td>\n",
       "      <td>False</td>\n",
       "    </tr>\n",
       "    <tr>\n",
       "      <th>3</th>\n",
       "      <td>-2.292363e+09</td>\n",
       "      <td>-3.520916e+09</td>\n",
       "      <td>False</td>\n",
       "    </tr>\n",
       "    <tr>\n",
       "      <th>4</th>\n",
       "      <td>-1.854372e+09</td>\n",
       "      <td>-2.411037e+09</td>\n",
       "      <td>False</td>\n",
       "    </tr>\n",
       "    <tr>\n",
       "      <th>5</th>\n",
       "      <td>-1.363485e+09</td>\n",
       "      <td>-2.034860e+09</td>\n",
       "      <td>False</td>\n",
       "    </tr>\n",
       "    <tr>\n",
       "      <th>6</th>\n",
       "      <td>-1.253093e+09</td>\n",
       "      <td>-2.734037e+09</td>\n",
       "      <td>False</td>\n",
       "    </tr>\n",
       "    <tr>\n",
       "      <th>7</th>\n",
       "      <td>-1.405640e+09</td>\n",
       "      <td>-1.979347e+09</td>\n",
       "      <td>False</td>\n",
       "    </tr>\n",
       "    <tr>\n",
       "      <th>8</th>\n",
       "      <td>-5.540283e+09</td>\n",
       "      <td>-3.010136e+09</td>\n",
       "      <td>True</td>\n",
       "    </tr>\n",
       "    <tr>\n",
       "      <th>9</th>\n",
       "      <td>-1.119210e+09</td>\n",
       "      <td>-1.539539e+09</td>\n",
       "      <td>False</td>\n",
       "    </tr>\n",
       "  </tbody>\n",
       "</table>\n",
       "</div>"
      ],
      "text/plain": [
       "            reg          tree  Tree_wins?\n",
       "0 -1.107287e+09 -1.995138e+09       False\n",
       "1 -1.224279e+09 -1.764473e+09       False\n",
       "2 -1.181252e+09 -1.842761e+09       False\n",
       "3 -2.292363e+09 -3.520916e+09       False\n",
       "4 -1.854372e+09 -2.411037e+09       False\n",
       "5 -1.363485e+09 -2.034860e+09       False\n",
       "6 -1.253093e+09 -2.734037e+09       False\n",
       "7 -1.405640e+09 -1.979347e+09       False\n",
       "8 -5.540283e+09 -3.010136e+09        True\n",
       "9 -1.119210e+09 -1.539539e+09       False"
      ]
     },
     "execution_count": 22,
     "metadata": {},
     "output_type": "execute_result"
    }
   ],
   "source": [
    "from sklearn.linear_model import LinearRegression\n",
    "from sklearn.tree import DecisionTreeRegressor\n",
    "from sklearn.model_selection import cross_validate\n",
    "\n",
    "lr = LinearRegression()\n",
    "cv_results_lr = cross_validate(lr, data_numerical, target,\n",
    "                            cv=10, scoring=\"neg_mean_squared_error\",\n",
    "                            return_train_score=True,\n",
    "                            return_estimator=True)\n",
    "tree = DecisionTreeRegressor()\n",
    "\n",
    "cv_results_tree = cross_validate(tree, data_numerical, target,\n",
    "                            cv=10, scoring=\"neg_mean_squared_error\",\n",
    "                            return_train_score=True,\n",
    "                            return_estimator=True)\n",
    "df = pd.DataFrame({\"reg\": cv_results_lr[\"test_score\"], \"tree\": cv_results_tree[\"test_score\"]})\n",
    "df[\"Tree_wins?\"] = df[\"reg\"] < df[\"tree\"]\n",
    "df"
   ]
  },
  {
   "cell_type": "markdown",
   "metadata": {},
   "source": [
    "## Question 2 (1 point possible)\n",
    "\n",
    "Instead of using the default parameters for the decision tree regressor, we will optimize the max_depth of the tree. Vary the max_depth from 1 level up to 15 levels. Use nested cross-validation to evaluate a grid-search (sklearn.model_selection.GridSearchCV). Set cv=10 for both the inner and outer cross-validations, then answer the questions below\n",
    "\n",
    "What is the optimal tree depth for the current problem?\n",
    "\n",
    " a) The optimal depth is ranging from 3 to 5 \n",
    " \n",
    " b) The optimal depth is ranging from 5 to 8\n",
    " \n",
    " c) The optimal depth is ranging from 8 to 11\n",
    " \n",
    " d) The optimal depth is ranging from 11 to 15"
   ]
  },
  {
   "cell_type": "code",
   "execution_count": 29,
   "metadata": {},
   "outputs": [
    {
     "data": {
      "text/html": [
       "<div>\n",
       "<style scoped>\n",
       "    .dataframe tbody tr th:only-of-type {\n",
       "        vertical-align: middle;\n",
       "    }\n",
       "\n",
       "    .dataframe tbody tr th {\n",
       "        vertical-align: top;\n",
       "    }\n",
       "\n",
       "    .dataframe thead th {\n",
       "        text-align: right;\n",
       "    }\n",
       "</style>\n",
       "<table border=\"1\" class=\"dataframe\">\n",
       "  <thead>\n",
       "    <tr style=\"text-align: right;\">\n",
       "      <th></th>\n",
       "      <th>mean_fit_time</th>\n",
       "      <th>std_fit_time</th>\n",
       "      <th>mean_score_time</th>\n",
       "      <th>std_score_time</th>\n",
       "      <th>param_max_depth</th>\n",
       "      <th>params</th>\n",
       "      <th>split0_test_score</th>\n",
       "      <th>split1_test_score</th>\n",
       "      <th>split2_test_score</th>\n",
       "      <th>split3_test_score</th>\n",
       "      <th>split4_test_score</th>\n",
       "      <th>split5_test_score</th>\n",
       "      <th>split6_test_score</th>\n",
       "      <th>split7_test_score</th>\n",
       "      <th>split8_test_score</th>\n",
       "      <th>split9_test_score</th>\n",
       "      <th>mean_test_score</th>\n",
       "      <th>std_test_score</th>\n",
       "      <th>rank_test_score</th>\n",
       "    </tr>\n",
       "  </thead>\n",
       "  <tbody>\n",
       "    <tr>\n",
       "      <th>5</th>\n",
       "      <td>0.009535</td>\n",
       "      <td>0.000208</td>\n",
       "      <td>0.001914</td>\n",
       "      <td>0.000085</td>\n",
       "      <td>6</td>\n",
       "      <td>{'max_depth': 6}</td>\n",
       "      <td>0.699666</td>\n",
       "      <td>0.750558</td>\n",
       "      <td>0.693881</td>\n",
       "      <td>0.484811</td>\n",
       "      <td>0.762698</td>\n",
       "      <td>0.737579</td>\n",
       "      <td>0.689372</td>\n",
       "      <td>0.766617</td>\n",
       "      <td>0.644540</td>\n",
       "      <td>0.728665</td>\n",
       "      <td>0.695839</td>\n",
       "      <td>0.079068</td>\n",
       "      <td>1</td>\n",
       "    </tr>\n",
       "    <tr>\n",
       "      <th>6</th>\n",
       "      <td>0.010197</td>\n",
       "      <td>0.000444</td>\n",
       "      <td>0.001780</td>\n",
       "      <td>0.000090</td>\n",
       "      <td>7</td>\n",
       "      <td>{'max_depth': 7}</td>\n",
       "      <td>0.616478</td>\n",
       "      <td>0.700528</td>\n",
       "      <td>0.731033</td>\n",
       "      <td>0.632124</td>\n",
       "      <td>0.778794</td>\n",
       "      <td>0.724092</td>\n",
       "      <td>0.684969</td>\n",
       "      <td>0.725991</td>\n",
       "      <td>0.531813</td>\n",
       "      <td>0.735989</td>\n",
       "      <td>0.686181</td>\n",
       "      <td>0.069216</td>\n",
       "      <td>2</td>\n",
       "    </tr>\n",
       "    <tr>\n",
       "      <th>4</th>\n",
       "      <td>0.008441</td>\n",
       "      <td>0.000312</td>\n",
       "      <td>0.001918</td>\n",
       "      <td>0.000109</td>\n",
       "      <td>5</td>\n",
       "      <td>{'max_depth': 5}</td>\n",
       "      <td>0.590929</td>\n",
       "      <td>0.760759</td>\n",
       "      <td>0.670528</td>\n",
       "      <td>0.463232</td>\n",
       "      <td>0.738052</td>\n",
       "      <td>0.749435</td>\n",
       "      <td>0.669280</td>\n",
       "      <td>0.756933</td>\n",
       "      <td>0.679173</td>\n",
       "      <td>0.705370</td>\n",
       "      <td>0.678369</td>\n",
       "      <td>0.087394</td>\n",
       "      <td>3</td>\n",
       "    </tr>\n",
       "    <tr>\n",
       "      <th>7</th>\n",
       "      <td>0.010697</td>\n",
       "      <td>0.000939</td>\n",
       "      <td>0.001716</td>\n",
       "      <td>0.000152</td>\n",
       "      <td>8</td>\n",
       "      <td>{'max_depth': 8}</td>\n",
       "      <td>0.597440</td>\n",
       "      <td>0.715640</td>\n",
       "      <td>0.788311</td>\n",
       "      <td>0.483245</td>\n",
       "      <td>0.766690</td>\n",
       "      <td>0.708327</td>\n",
       "      <td>0.559726</td>\n",
       "      <td>0.736313</td>\n",
       "      <td>0.568563</td>\n",
       "      <td>0.736865</td>\n",
       "      <td>0.666112</td>\n",
       "      <td>0.099100</td>\n",
       "      <td>4</td>\n",
       "    </tr>\n",
       "  </tbody>\n",
       "</table>\n",
       "</div>"
      ],
      "text/plain": [
       "   mean_fit_time  std_fit_time  mean_score_time  std_score_time  \\\n",
       "5       0.009535      0.000208         0.001914        0.000085   \n",
       "6       0.010197      0.000444         0.001780        0.000090   \n",
       "4       0.008441      0.000312         0.001918        0.000109   \n",
       "7       0.010697      0.000939         0.001716        0.000152   \n",
       "\n",
       "  param_max_depth            params  split0_test_score  split1_test_score  \\\n",
       "5               6  {'max_depth': 6}           0.699666           0.750558   \n",
       "6               7  {'max_depth': 7}           0.616478           0.700528   \n",
       "4               5  {'max_depth': 5}           0.590929           0.760759   \n",
       "7               8  {'max_depth': 8}           0.597440           0.715640   \n",
       "\n",
       "   split2_test_score  split3_test_score  split4_test_score  split5_test_score  \\\n",
       "5           0.693881           0.484811           0.762698           0.737579   \n",
       "6           0.731033           0.632124           0.778794           0.724092   \n",
       "4           0.670528           0.463232           0.738052           0.749435   \n",
       "7           0.788311           0.483245           0.766690           0.708327   \n",
       "\n",
       "   split6_test_score  split7_test_score  split8_test_score  split9_test_score  \\\n",
       "5           0.689372           0.766617           0.644540           0.728665   \n",
       "6           0.684969           0.725991           0.531813           0.735989   \n",
       "4           0.669280           0.756933           0.679173           0.705370   \n",
       "7           0.559726           0.736313           0.568563           0.736865   \n",
       "\n",
       "   mean_test_score  std_test_score  rank_test_score  \n",
       "5         0.695839        0.079068                1  \n",
       "6         0.686181        0.069216                2  \n",
       "4         0.678369        0.087394                3  \n",
       "7         0.666112        0.099100                4  "
      ]
     },
     "execution_count": 29,
     "metadata": {},
     "output_type": "execute_result"
    }
   ],
   "source": [
    "from sklearn.model_selection import GridSearchCV\n",
    "\n",
    "param_grid = {\n",
    "    'max_depth': [num for num in range(1, 16)]\n",
    "}\n",
    "\n",
    "tree = DecisionTreeRegressor()\n",
    "\n",
    "model_grid_search = GridSearchCV(tree, param_grid=param_grid,\n",
    "                                 n_jobs=2, cv=10)\n",
    "model_grid_search.fit(data_numerical, target)\n",
    "\n",
    "cv_results = pd.DataFrame(model_grid_search.cv_results_).sort_values(\n",
    "    \"mean_test_score\", ascending=False)\n",
    "\n",
    "cv_results.head(4)"
   ]
  },
  {
   "cell_type": "code",
   "execution_count": 30,
   "metadata": {},
   "outputs": [
    {
     "data": {
      "text/plain": [
       "5      {'max_depth': 6}\n",
       "6      {'max_depth': 7}\n",
       "4      {'max_depth': 5}\n",
       "7      {'max_depth': 8}\n",
       "3      {'max_depth': 4}\n",
       "13    {'max_depth': 14}\n",
       "8      {'max_depth': 9}\n",
       "9     {'max_depth': 10}\n",
       "10    {'max_depth': 11}\n",
       "11    {'max_depth': 12}\n",
       "14    {'max_depth': 15}\n",
       "12    {'max_depth': 13}\n",
       "2      {'max_depth': 3}\n",
       "1      {'max_depth': 2}\n",
       "0      {'max_depth': 1}\n",
       "Name: params, dtype: object"
      ]
     },
     "execution_count": 30,
     "metadata": {},
     "output_type": "execute_result"
    }
   ],
   "source": [
    "cv_results[\"params\"]"
   ]
  },
  {
   "cell_type": "markdown",
   "metadata": {},
   "source": [
    "## Question 3 (1 point possible)\n",
    "\n",
    "Now, we want to evaluate the generalization performance of the decision tree while taking into account the fact that we tune the depth for this specific dataset. Use the grid-search as an estimator inside a cross_validate to automatically tune the max_depth parameter on each cross-validation fold.\n",
    "\n",
    "A tree with tuned depth\n",
    "\n",
    " a) is always worse than the linear models on all CV folds\n",
    " \n",
    " b) is often but not always worse than the linear model\n",
    " \n",
    " c) is often but not always better than the linear model\n",
    " \n",
    " d) is always better than the linear models on all CV folds"
   ]
  },
  {
   "cell_type": "code",
   "execution_count": 36,
   "metadata": {},
   "outputs": [
    {
     "name": "stdout",
     "output_type": "stream",
     "text": [
      "Tricky choice\n"
     ]
    },
    {
     "data": {
      "text/html": [
       "<div>\n",
       "<style scoped>\n",
       "    .dataframe tbody tr th:only-of-type {\n",
       "        vertical-align: middle;\n",
       "    }\n",
       "\n",
       "    .dataframe tbody tr th {\n",
       "        vertical-align: top;\n",
       "    }\n",
       "\n",
       "    .dataframe thead th {\n",
       "        text-align: right;\n",
       "    }\n",
       "</style>\n",
       "<table border=\"1\" class=\"dataframe\">\n",
       "  <thead>\n",
       "    <tr style=\"text-align: right;\">\n",
       "      <th></th>\n",
       "      <th>reg</th>\n",
       "      <th>tree</th>\n",
       "      <th>Tree_wins?</th>\n",
       "    </tr>\n",
       "  </thead>\n",
       "  <tbody>\n",
       "    <tr>\n",
       "      <th>0</th>\n",
       "      <td>-1.107287e+09</td>\n",
       "      <td>-1.597233e+09</td>\n",
       "      <td>False</td>\n",
       "    </tr>\n",
       "    <tr>\n",
       "      <th>1</th>\n",
       "      <td>-1.224279e+09</td>\n",
       "      <td>-1.606587e+09</td>\n",
       "      <td>False</td>\n",
       "    </tr>\n",
       "    <tr>\n",
       "      <th>2</th>\n",
       "      <td>-1.181252e+09</td>\n",
       "      <td>-1.918521e+09</td>\n",
       "      <td>False</td>\n",
       "    </tr>\n",
       "    <tr>\n",
       "      <th>3</th>\n",
       "      <td>-2.292363e+09</td>\n",
       "      <td>-2.635342e+09</td>\n",
       "      <td>False</td>\n",
       "    </tr>\n",
       "    <tr>\n",
       "      <th>4</th>\n",
       "      <td>-1.854372e+09</td>\n",
       "      <td>-2.067645e+09</td>\n",
       "      <td>False</td>\n",
       "    </tr>\n",
       "    <tr>\n",
       "      <th>5</th>\n",
       "      <td>-1.363485e+09</td>\n",
       "      <td>-1.654392e+09</td>\n",
       "      <td>False</td>\n",
       "    </tr>\n",
       "    <tr>\n",
       "      <th>6</th>\n",
       "      <td>-1.253093e+09</td>\n",
       "      <td>-1.650458e+09</td>\n",
       "      <td>False</td>\n",
       "    </tr>\n",
       "    <tr>\n",
       "      <th>7</th>\n",
       "      <td>-1.405640e+09</td>\n",
       "      <td>-1.194556e+09</td>\n",
       "      <td>True</td>\n",
       "    </tr>\n",
       "    <tr>\n",
       "      <th>8</th>\n",
       "      <td>-5.540283e+09</td>\n",
       "      <td>-2.874092e+09</td>\n",
       "      <td>True</td>\n",
       "    </tr>\n",
       "    <tr>\n",
       "      <th>9</th>\n",
       "      <td>-1.119210e+09</td>\n",
       "      <td>-1.378985e+09</td>\n",
       "      <td>False</td>\n",
       "    </tr>\n",
       "  </tbody>\n",
       "</table>\n",
       "</div>"
      ],
      "text/plain": [
       "            reg          tree  Tree_wins?\n",
       "0 -1.107287e+09 -1.597233e+09       False\n",
       "1 -1.224279e+09 -1.606587e+09       False\n",
       "2 -1.181252e+09 -1.918521e+09       False\n",
       "3 -2.292363e+09 -2.635342e+09       False\n",
       "4 -1.854372e+09 -2.067645e+09       False\n",
       "5 -1.363485e+09 -1.654392e+09       False\n",
       "6 -1.253093e+09 -1.650458e+09       False\n",
       "7 -1.405640e+09 -1.194556e+09        True\n",
       "8 -5.540283e+09 -2.874092e+09        True\n",
       "9 -1.119210e+09 -1.378985e+09       False"
      ]
     },
     "execution_count": 36,
     "metadata": {},
     "output_type": "execute_result"
    }
   ],
   "source": [
    "print(\"Tricky choice\")\n",
    "\n",
    "lr = LinearRegression()\n",
    "cv_results_lr = cross_validate(lr, data_numerical, target,\n",
    "                            cv=10, scoring=\"neg_mean_squared_error\",\n",
    "                            return_train_score=True,\n",
    "                            return_estimator=True)\n",
    "\n",
    "tree = DecisionTreeRegressor(max_depth =6)\n",
    "\n",
    "cv_results_tree = cross_validate(tree, data_numerical, target,\n",
    "                            cv=10, scoring=\"neg_mean_squared_error\",\n",
    "                            return_train_score=True,\n",
    "                            return_estimator=True)\n",
    "df = pd.DataFrame({\"reg\": cv_results_lr[\"test_score\"], \"tree\": cv_results_tree[\"test_score\"]})\n",
    "df[\"Tree_wins?\"] = df[\"reg\"] < df[\"tree\"]\n",
    "df"
   ]
  },
  {
   "cell_type": "code",
   "execution_count": 41,
   "metadata": {},
   "outputs": [
    {
     "data": {
      "text/html": [
       "<div>\n",
       "<style scoped>\n",
       "    .dataframe tbody tr th:only-of-type {\n",
       "        vertical-align: middle;\n",
       "    }\n",
       "\n",
       "    .dataframe tbody tr th {\n",
       "        vertical-align: top;\n",
       "    }\n",
       "\n",
       "    .dataframe thead th {\n",
       "        text-align: right;\n",
       "    }\n",
       "</style>\n",
       "<table border=\"1\" class=\"dataframe\">\n",
       "  <thead>\n",
       "    <tr style=\"text-align: right;\">\n",
       "      <th></th>\n",
       "      <th>reg</th>\n",
       "      <th>tree</th>\n",
       "      <th>Tree_wins?</th>\n",
       "    </tr>\n",
       "  </thead>\n",
       "  <tbody>\n",
       "    <tr>\n",
       "      <th>0</th>\n",
       "      <td>-1.107287e+09</td>\n",
       "      <td>-1.458303e+09</td>\n",
       "      <td>False</td>\n",
       "    </tr>\n",
       "    <tr>\n",
       "      <th>1</th>\n",
       "      <td>-1.224279e+09</td>\n",
       "      <td>-1.773044e+09</td>\n",
       "      <td>False</td>\n",
       "    </tr>\n",
       "    <tr>\n",
       "      <th>2</th>\n",
       "      <td>-1.181252e+09</td>\n",
       "      <td>-1.550345e+09</td>\n",
       "      <td>False</td>\n",
       "    </tr>\n",
       "    <tr>\n",
       "      <th>3</th>\n",
       "      <td>-2.292363e+09</td>\n",
       "      <td>-3.457671e+09</td>\n",
       "      <td>False</td>\n",
       "    </tr>\n",
       "    <tr>\n",
       "      <th>4</th>\n",
       "      <td>-1.854372e+09</td>\n",
       "      <td>-2.067645e+09</td>\n",
       "      <td>False</td>\n",
       "    </tr>\n",
       "    <tr>\n",
       "      <th>5</th>\n",
       "      <td>-1.363485e+09</td>\n",
       "      <td>-1.714905e+09</td>\n",
       "      <td>False</td>\n",
       "    </tr>\n",
       "    <tr>\n",
       "      <th>6</th>\n",
       "      <td>-1.253093e+09</td>\n",
       "      <td>-1.620213e+09</td>\n",
       "      <td>False</td>\n",
       "    </tr>\n",
       "    <tr>\n",
       "      <th>7</th>\n",
       "      <td>-1.405640e+09</td>\n",
       "      <td>-1.833650e+09</td>\n",
       "      <td>False</td>\n",
       "    </tr>\n",
       "    <tr>\n",
       "      <th>8</th>\n",
       "      <td>-5.540283e+09</td>\n",
       "      <td>-3.438270e+09</td>\n",
       "      <td>True</td>\n",
       "    </tr>\n",
       "    <tr>\n",
       "      <th>9</th>\n",
       "      <td>-1.119210e+09</td>\n",
       "      <td>-1.265031e+09</td>\n",
       "      <td>False</td>\n",
       "    </tr>\n",
       "  </tbody>\n",
       "</table>\n",
       "</div>"
      ],
      "text/plain": [
       "            reg          tree  Tree_wins?\n",
       "0 -1.107287e+09 -1.458303e+09       False\n",
       "1 -1.224279e+09 -1.773044e+09       False\n",
       "2 -1.181252e+09 -1.550345e+09       False\n",
       "3 -2.292363e+09 -3.457671e+09       False\n",
       "4 -1.854372e+09 -2.067645e+09       False\n",
       "5 -1.363485e+09 -1.714905e+09       False\n",
       "6 -1.253093e+09 -1.620213e+09       False\n",
       "7 -1.405640e+09 -1.833650e+09       False\n",
       "8 -5.540283e+09 -3.438270e+09        True\n",
       "9 -1.119210e+09 -1.265031e+09       False"
      ]
     },
     "execution_count": 41,
     "metadata": {},
     "output_type": "execute_result"
    }
   ],
   "source": [
    "param_grid = {\n",
    "    'max_depth': [num for num in range(1, 16)]\n",
    "}\n",
    "\n",
    "tree = DecisionTreeRegressor()\n",
    "\n",
    "model_grid_search = GridSearchCV(tree, param_grid=param_grid,\n",
    "                                 n_jobs=2, cv=10)\n",
    "\n",
    "cv_results_tree = cross_validate(model_grid_search , data_numerical, target,\n",
    "                            cv=10, scoring=\"neg_mean_squared_error\",\n",
    "                            return_train_score=True,\n",
    "                                 \n",
    "                            return_estimator=True)\n",
    "df = pd.DataFrame({\"reg\": cv_results_lr[\"test_score\"], \"tree\": cv_results_tree[\"test_score\"]})\n",
    "df[\"Tree_wins?\"] = df[\"reg\"] < df[\"tree\"]\n",
    "df"
   ]
  },
  {
   "cell_type": "markdown",
   "metadata": {},
   "source": [
    "## Question 4 (1 point possible)\n",
    "\n",
    "Instead of using only the numerical features you will now use the entire dataset available in the variable data.\n",
    "\n",
    "Create a preprocessor by dealing separately with the numerical and categorical columns. For the sake of simplicity, we will assume the following:\n",
    "\n",
    "categorical columns can be selected if they have an object data type;\n",
    "use an OrdinalEncoder to encode the categorical columns;\n",
    "numerical columns can be selected if they do not have an object data type. It will be the complement of the numerical columns.\n",
    "In addition, set the max_depth of the decision tree to 7 (fixed, no need to tune it with a grid-search).\n",
    "\n",
    "Evaluate this model using cross_validate as in the previous questions.\n",
    "\n",
    "A tree model trained with both numerical and categorical features\n",
    "\n",
    "a) is most often worse than the tree model using only the numerical features\n",
    "    \n",
    "b) is most often better than the tree model using only the numerical features"
   ]
  },
  {
   "cell_type": "code",
   "execution_count": 50,
   "metadata": {},
   "outputs": [],
   "source": [
    "from sklearn.compose import ColumnTransformer\n",
    "from sklearn.preprocessing import OrdinalEncoder\n",
    "from sklearn.compose import make_column_selector as selector\n",
    "\n",
    "categorical_columns_selector = selector(dtype_include=object)\n",
    "categorical_columns = categorical_columns_selector(data)\n",
    "\n",
    "categorical_preprocessor = OrdinalEncoder(handle_unknown=\"use_encoded_value\", unknown_value=-1)\n",
    "\n",
    "preprocessor_cat = ColumnTransformer([('cat_preprocessor', categorical_preprocessor, categorical_columns),],\n",
    "                                 remainder='passthrough', parse_threshold=0)"
   ]
  },
  {
   "cell_type": "code",
   "execution_count": 62,
   "metadata": {},
   "outputs": [
    {
     "name": "stdout",
     "output_type": "stream",
     "text": [
      "['MSSubClass', 'LotFrontage', 'LotArea', 'OverallQual', 'OverallCond', 'YearBuilt', 'YearRemodAdd', 'MasVnrArea', 'BsmtFinSF1', 'BsmtFinSF2', 'BsmtUnfSF', 'TotalBsmtSF', '1stFlrSF', '2ndFlrSF', 'LowQualFinSF', 'GrLivArea', 'BsmtFullBath', 'BsmtHalfBath', 'FullBath', 'HalfBath', 'BedroomAbvGr', 'KitchenAbvGr', 'TotRmsAbvGrd', 'Fireplaces', 'GarageYrBlt', 'GarageCars', 'GarageArea', 'WoodDeckSF', 'OpenPorchSF', 'EnclosedPorch', '3SsnPorch', 'ScreenPorch', 'PoolArea', 'MiscVal', 'MoSold', 'YrSold']\n"
     ]
    }
   ],
   "source": [
    "print([col for col in data.columns if col not in categorical_columns], sep = \",\")"
   ]
  },
  {
   "cell_type": "code",
   "execution_count": 66,
   "metadata": {},
   "outputs": [
    {
     "name": "stdout",
     "output_type": "stream",
     "text": [
      "['LotFrontage', 'LotArea', 'MasVnrArea', 'BsmtFinSF1', 'BsmtFinSF2', 'BsmtUnfSF', 'TotalBsmtSF', '1stFlrSF', '2ndFlrSF', 'LowQualFinSF', 'GrLivArea', 'BedroomAbvGr', 'KitchenAbvGr', 'TotRmsAbvGrd', 'Fireplaces', 'GarageCars', 'GarageArea', 'WoodDeckSF', 'OpenPorchSF', 'EnclosedPorch', '3SsnPorch', 'ScreenPorch', 'PoolArea', 'MiscVal']\n"
     ]
    }
   ],
   "source": [
    "print(numerical_features, sep = \",\")"
   ]
  },
  {
   "cell_type": "code",
   "execution_count": 63,
   "metadata": {},
   "outputs": [
    {
     "name": "stdout",
     "output_type": "stream",
     "text": [
      "['MSZoning', 'Street', 'Alley', 'LotShape', 'LandContour', 'Utilities', 'LotConfig', 'LandSlope', 'Neighborhood', 'Condition1', 'Condition2', 'BldgType', 'HouseStyle', 'RoofStyle', 'RoofMatl', 'Exterior1st', 'Exterior2nd', 'MasVnrType', 'ExterQual', 'ExterCond', 'Foundation', 'BsmtQual', 'BsmtCond', 'BsmtExposure', 'BsmtFinType1', 'BsmtFinType2', 'Heating', 'HeatingQC', 'CentralAir', 'Electrical', 'KitchenQual', 'Functional', 'FireplaceQu', 'GarageType', 'GarageFinish', 'GarageQual', 'GarageCond', 'PavedDrive', 'PoolQC', 'Fence', 'MiscFeature', 'SaleType', 'SaleCondition']\n"
     ]
    }
   ],
   "source": [
    "print(categorical_columns, sep = \",\")"
   ]
  },
  {
   "cell_type": "code",
   "execution_count": 51,
   "metadata": {},
   "outputs": [
    {
     "data": {
      "text/plain": [
       "['MSZoning',\n",
       " 'Street',\n",
       " 'Alley',\n",
       " 'LotShape',\n",
       " 'LandContour',\n",
       " 'Utilities',\n",
       " 'LotConfig',\n",
       " 'LandSlope',\n",
       " 'Neighborhood',\n",
       " 'Condition1',\n",
       " 'Condition2',\n",
       " 'BldgType',\n",
       " 'HouseStyle',\n",
       " 'RoofStyle',\n",
       " 'RoofMatl',\n",
       " 'Exterior1st',\n",
       " 'Exterior2nd',\n",
       " 'MasVnrType',\n",
       " 'ExterQual',\n",
       " 'ExterCond',\n",
       " 'Foundation',\n",
       " 'BsmtQual',\n",
       " 'BsmtCond',\n",
       " 'BsmtExposure',\n",
       " 'BsmtFinType1',\n",
       " 'BsmtFinType2',\n",
       " 'Heating',\n",
       " 'HeatingQC',\n",
       " 'CentralAir',\n",
       " 'Electrical',\n",
       " 'KitchenQual',\n",
       " 'Functional',\n",
       " 'FireplaceQu',\n",
       " 'GarageType',\n",
       " 'GarageFinish',\n",
       " 'GarageQual',\n",
       " 'GarageCond',\n",
       " 'PavedDrive',\n",
       " 'PoolQC',\n",
       " 'Fence',\n",
       " 'MiscFeature',\n",
       " 'SaleType',\n",
       " 'SaleCondition']"
      ]
     },
     "execution_count": 51,
     "metadata": {},
     "output_type": "execute_result"
    }
   ],
   "source": [
    "model = Pipeline(steps=[\n",
    "    (\"preprocessor\", StandardScaler()),\n",
    "    (\"classifier\", KNeighborsClassifier(n_neighbors=5)),\n",
    "])"
   ]
  },
  {
   "cell_type": "code",
   "execution_count": null,
   "metadata": {},
   "outputs": [],
   "source": []
  },
  {
   "cell_type": "code",
   "execution_count": null,
   "metadata": {},
   "outputs": [],
   "source": []
  }
 ],
 "metadata": {
  "kernelspec": {
   "display_name": "Python 3 (ipykernel)",
   "language": "python",
   "name": "python3"
  },
  "language_info": {
   "codemirror_mode": {
    "name": "ipython",
    "version": 3
   },
   "file_extension": ".py",
   "mimetype": "text/x-python",
   "name": "python",
   "nbconvert_exporter": "python",
   "pygments_lexer": "ipython3",
   "version": "3.9.10"
  }
 },
 "nbformat": 4,
 "nbformat_minor": 4
}
