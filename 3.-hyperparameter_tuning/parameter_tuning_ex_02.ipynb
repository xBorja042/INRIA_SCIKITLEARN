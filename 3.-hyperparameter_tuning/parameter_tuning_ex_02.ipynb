{
 "cells": [
  {
   "cell_type": "markdown",
   "id": "4da2a904",
   "metadata": {},
   "source": [
    "# 📝 Exercise M3.01\n",
    "\n",
    "The goal is to write an exhaustive search to find the best parameters\n",
    "combination maximizing the model generalization performance.\n",
    "\n",
    "Here we use a small subset of the Adult Census dataset to make the code\n",
    "faster to execute. Once your code works on the small subset, try to\n",
    "change `train_size` to a larger value (e.g. 0.8 for 80% instead of\n",
    "20%)."
   ]
  },
  {
   "cell_type": "code",
   "execution_count": 1,
   "id": "46048968",
   "metadata": {},
   "outputs": [],
   "source": [
    "import pandas as pd\n",
    "\n",
    "from sklearn.model_selection import train_test_split\n",
    "\n",
    "adult_census = pd.read_csv(\"../datasets/adult-census.csv\")\n",
    "\n",
    "target_name = \"class\"\n",
    "target = adult_census[target_name]\n",
    "data = adult_census.drop(columns=[target_name, \"education-num\"])\n",
    "\n",
    "data_train, data_test, target_train, target_test = train_test_split(\n",
    "    data, target, train_size=0.2, random_state=42)"
   ]
  },
  {
   "cell_type": "code",
   "execution_count": 2,
   "id": "37289e95",
   "metadata": {},
   "outputs": [],
   "source": [
    "from sklearn.compose import ColumnTransformer\n",
    "from sklearn.compose import make_column_selector as selector\n",
    "from sklearn.preprocessing import OrdinalEncoder\n",
    "\n",
    "categorical_preprocessor = OrdinalEncoder(handle_unknown=\"use_encoded_value\",\n",
    "                                          unknown_value=-1)\n",
    "preprocessor = ColumnTransformer(\n",
    "    [('cat_preprocessor', categorical_preprocessor,\n",
    "      selector(dtype_include=object))],\n",
    "    remainder='passthrough', sparse_threshold=0)\n",
    "\n",
    "from sklearn.ensemble import HistGradientBoostingClassifier\n",
    "from sklearn.pipeline import Pipeline\n",
    "\n",
    "model = Pipeline([\n",
    "    (\"preprocessor\", preprocessor),\n",
    "    (\"classifier\", HistGradientBoostingClassifier(random_state=42))\n",
    "])"
   ]
  },
  {
   "cell_type": "markdown",
   "id": "ba6214e9",
   "metadata": {},
   "source": [
    "\n",
    "Use the previously defined model (called `model`) and using two nested `for`\n",
    "loops, make a search of the best combinations of the `learning_rate` and\n",
    "`max_leaf_nodes` parameters. In this regard, you will need to train and test\n",
    "the model by setting the parameters. The evaluation of the model should be\n",
    "performed using `cross_val_score` on the training set. We will use the\n",
    "following parameters search:\n",
    "- `learning_rate` for the values 0.01, 0.1, 1 and 10. This parameter controls\n",
    "  the ability of a new tree to correct the error of the previous sequence of\n",
    "  trees\n",
    "- `max_leaf_nodes` for the values 3, 10, 30. This parameter controls the\n",
    "  depth of each tree."
   ]
  },
  {
   "cell_type": "code",
   "execution_count": 19,
   "id": "72d24167",
   "metadata": {},
   "outputs": [
    {
     "data": {
      "text/plain": [
       "array([0.79813696, 0.79864879, 0.79842342, 0.79719492, 0.80118755])"
      ]
     },
     "execution_count": 19,
     "metadata": {},
     "output_type": "execute_result"
    }
   ],
   "source": [
    "cross_val_score(model, data, target)"
   ]
  },
  {
   "cell_type": "code",
   "execution_count": 22,
   "id": "b13c8063",
   "metadata": {},
   "outputs": [
    {
     "name": "stdout",
     "output_type": "stream",
     "text": [
      "Initial LR an leaf nodes: 10 30\n",
      " --> Current LR:  0.01 and leaf nodes:  3\n",
      " Accuracy: 0.799 +/- 0.001\n",
      " \n",
      " --> Current LR:  0.01 and leaf nodes:  10\n",
      " Accuracy: 0.820 +/- 0.002\n",
      " \n",
      " --> Current LR:  0.01 and leaf nodes:  30\n",
      " Accuracy: 0.848 +/- 0.002\n",
      " \n",
      " --> Current LR:  0.1 and leaf nodes:  3\n",
      " Accuracy: 0.856 +/- 0.003\n",
      " \n",
      " --> Current LR:  0.1 and leaf nodes:  10\n",
      " Accuracy: 0.870 +/- 0.001\n",
      " \n",
      " --> Current LR:  0.1 and leaf nodes:  30\n",
      " Accuracy: 0.874 +/- 0.002\n",
      " \n",
      " --> Current LR:  1 and leaf nodes:  3\n",
      " Accuracy: 0.870 +/- 0.003\n",
      " \n",
      " --> Current LR:  1 and leaf nodes:  10\n",
      " Accuracy: 0.867 +/- 0.002\n",
      " \n",
      " --> Current LR:  1 and leaf nodes:  30\n",
      " Accuracy: 0.860 +/- 0.005\n",
      " \n",
      " --> Current LR:  10 and leaf nodes:  3\n",
      " Accuracy: 0.281 +/- 0.004\n",
      " \n",
      " --> Current LR:  10 and leaf nodes:  10\n",
      " Accuracy: 0.761 +/- 0.045\n",
      " \n",
      " --> Current LR:  10 and leaf nodes:  30\n",
      " Accuracy: 0.616 +/- 0.179\n",
      " \n"
     ]
    }
   ],
   "source": [
    "# Write your code here.\n",
    "from sklearn.model_selection import cross_val_score\n",
    "\n",
    "print(\"Initial LR an leaf nodes:\", model.get_params()['classifier__learning_rate'], model.get_params()['classifier__max_leaf_nodes'])\n",
    "\n",
    "learning_rates, max_leaf_n = [0.01, 0.1, 1, 10], [3, 10, 30]\n",
    "\n",
    "for lr in learning_rates:\n",
    "    for n in max_leaf_n:\n",
    "        model.set_params(classifier__learning_rate = lr, classifier__max_leaf_nodes = n)\n",
    "        print(\" --> Current LR: \", model.get_params()['classifier__learning_rate'], \"and leaf nodes: \", model.get_params()['classifier__max_leaf_nodes'])\n",
    "        cv_results = cross_val_score(model, data, target)\n",
    "        scores = cv_results\n",
    "        print(f\" Accuracy: {scores.mean():.3f} +/- {scores.std():.3f}\")\n",
    "        print(\" \")"
   ]
  },
  {
   "cell_type": "markdown",
   "id": "47466888",
   "metadata": {},
   "source": [
    "\n",
    "Now use the test set to score the model using the best parameters\n",
    "that we found using cross-validation in the training set."
   ]
  },
  {
   "cell_type": "markdown",
   "id": "6684b0fc",
   "metadata": {},
   "source": [
    "Best params: \n",
    " --> Current LR:  0.1 and leaf nodes:  30\n",
    " Accuracy: 0.874 +/- 0.002"
   ]
  },
  {
   "cell_type": "code",
   "execution_count": 26,
   "id": "911e27b2",
   "metadata": {},
   "outputs": [
    {
     "name": "stdout",
     "output_type": "stream",
     "text": [
      " --> Current LR:  0.1 and leaf nodes:  30\n"
     ]
    },
    {
     "data": {
      "text/plain": [
       "array([0.87535828, 0.87159119, 0.87183687, 0.8727377 , 0.87339284,\n",
       "       0.87347474, 0.87584964, 0.87953485, 0.87969863, 0.87208255])"
      ]
     },
     "execution_count": 26,
     "metadata": {},
     "output_type": "execute_result"
    }
   ],
   "source": [
    "# Write your code here.\n",
    "\n",
    "model.set_params(classifier__learning_rate = 0.1, classifier__max_leaf_nodes = 30)\n",
    "print(\" --> Current LR: \", model.get_params()['classifier__learning_rate'], \"and leaf nodes: \", model.get_params()['classifier__max_leaf_nodes'])\n",
    "\n",
    "from sklearn.model_selection import cross_validate\n",
    "from sklearn.model_selection import ShuffleSplit\n",
    "\n",
    "ss = ShuffleSplit(random_state = 0, test_size=0.25)\n",
    "cross_v = cross_validate(model, data, target, cv = ss)\n",
    "cross_v['test_score']"
   ]
  },
  {
   "cell_type": "code",
   "execution_count": 27,
   "id": "5ef3e446",
   "metadata": {},
   "outputs": [
    {
     "name": "stdout",
     "output_type": "stream",
     "text": [
      " Su solución también mola: \n",
      "Evaluating model with learning rate 0.010 and max leaf nodes 3... score: 0.789\n",
      "Found new best model with score 0.789!\n",
      "Evaluating model with learning rate 0.010 and max leaf nodes 10... score: 0.813\n",
      "Found new best model with score 0.813!\n",
      "Evaluating model with learning rate 0.010 and max leaf nodes 30... score: 0.842\n",
      "Found new best model with score 0.842!\n",
      "Evaluating model with learning rate 0.100 and max leaf nodes 3... score: 0.847\n",
      "Found new best model with score 0.847!\n",
      "Evaluating model with learning rate 0.100 and max leaf nodes 10... score: 0.859\n",
      "Found new best model with score 0.859!\n",
      "Evaluating model with learning rate 0.100 and max leaf nodes 30... score: 0.857\n",
      "Evaluating model with learning rate 1.000 and max leaf nodes 3... score: 0.852\n",
      "Evaluating model with learning rate 1.000 and max leaf nodes 10... score: 0.833\n",
      "Evaluating model with learning rate 1.000 and max leaf nodes 30... score: 0.828\n",
      "Evaluating model with learning rate 10.000 and max leaf nodes 3... score: 0.288\n",
      "Evaluating model with learning rate 10.000 and max leaf nodes 10... score: 0.480\n",
      "Evaluating model with learning rate 10.000 and max leaf nodes 30... score: 0.639\n",
      "The best accuracy obtained is 0.859\n",
      "The best parameters found are:\n",
      " {'learning-rate': 0.1, 'max leaf nodes': 10}\n",
      "Test score after the parameter tuning: 0.870\n"
     ]
    }
   ],
   "source": [
    "print(\" Su solución también mola: \")\n",
    "\n",
    "# solution\n",
    "from sklearn.model_selection import cross_val_score\n",
    "\n",
    "learning_rate = [0.01, 0.1, 1, 10]\n",
    "max_leaf_nodes = [3, 10, 30]\n",
    "\n",
    "best_score = 0\n",
    "best_params = {}\n",
    "for lr in learning_rate:\n",
    "    for mln in max_leaf_nodes:\n",
    "        print(f\"Evaluating model with learning rate {lr:.3f}\"\n",
    "              f\" and max leaf nodes {mln}... \", end=\"\")\n",
    "        model.set_params(\n",
    "            classifier__learning_rate=lr,\n",
    "            classifier__max_leaf_nodes=mln\n",
    "        )\n",
    "        scores = cross_val_score(model, data_train, target_train, cv=2)\n",
    "        mean_score = scores.mean()\n",
    "        print(f\"score: {mean_score:.3f}\")\n",
    "        if mean_score > best_score:\n",
    "            best_score = mean_score\n",
    "            best_params = {'learning-rate': lr, 'max leaf nodes': mln}\n",
    "            print(f\"Found new best model with score {best_score:.3f}!\")\n",
    "\n",
    "print(f\"The best accuracy obtained is {best_score:.3f}\")\n",
    "print(f\"The best parameters found are:\\n {best_params}\")\n",
    "\n",
    "# solution\n",
    "best_lr = best_params['learning-rate']\n",
    "best_mln = best_params['max leaf nodes']\n",
    "\n",
    "model.set_params(classifier__learning_rate=best_lr,\n",
    "                 classifier__max_leaf_nodes=best_mln)\n",
    "model.fit(data_train, target_train)\n",
    "test_score = model.score(data_test, target_test)\n",
    "\n",
    "print(f\"Test score after the parameter tuning: {test_score:.3f}\")"
   ]
  }
 ],
 "metadata": {
  "jupytext": {
   "main_language": "python"
  },
  "kernelspec": {
   "display_name": "Python 3 (ipykernel)",
   "language": "python",
   "name": "python3"
  },
  "language_info": {
   "codemirror_mode": {
    "name": "ipython",
    "version": 3
   },
   "file_extension": ".py",
   "mimetype": "text/x-python",
   "name": "python",
   "nbconvert_exporter": "python",
   "pygments_lexer": "ipython3",
   "version": "3.9.10"
  },
  "nbreset": "https://raw.githubusercontent.com/INRIA/scikit-learn-mooc/main/notebooks/parameter_tuning_ex_02.ipynb"
 },
 "nbformat": 4,
 "nbformat_minor": 5
}
