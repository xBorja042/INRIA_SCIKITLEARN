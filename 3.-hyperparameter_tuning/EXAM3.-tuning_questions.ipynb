{
 "cells": [
  {
   "cell_type": "code",
   "execution_count": 1,
   "metadata": {},
   "outputs": [],
   "source": [
    "import pandas as pd\n",
    "\n",
    "penguins = pd.read_csv(\"../datasets/penguins.csv\")\n",
    "\n",
    "columns = [\"Body Mass (g)\", \"Flipper Length (mm)\", \"Culmen Length (mm)\"]\n",
    "target_name = \"Species\"\n",
    "\n",
    "# Remove lines with missing values for the columns of interest\n",
    "penguins_non_missing = penguins[columns + [target_name]].dropna()\n",
    "\n",
    "data = penguins_non_missing[columns]\n",
    "target = penguins_non_missing[target_name]"
   ]
  },
  {
   "cell_type": "code",
   "execution_count": 4,
   "metadata": {},
   "outputs": [
    {
     "data": {
      "text/plain": [
       "Adelie Penguin (Pygoscelis adeliae)          151\n",
       "Gentoo penguin (Pygoscelis papua)            123\n",
       "Chinstrap penguin (Pygoscelis antarctica)     68\n",
       "Name: Species, dtype: int64"
      ]
     },
     "execution_count": 4,
     "metadata": {},
     "output_type": "execute_result"
    }
   ],
   "source": [
    "target.value_counts()"
   ]
  },
  {
   "cell_type": "code",
   "execution_count": 6,
   "metadata": {},
   "outputs": [],
   "source": [
    "from sklearn.neighbors import KNeighborsClassifier\n",
    "from sklearn.preprocessing import StandardScaler\n",
    "from sklearn.pipeline import Pipeline\n",
    "model = Pipeline(steps=[\n",
    "    (\"preprocessor\", StandardScaler()),\n",
    "    (\"classifier\", KNeighborsClassifier(n_neighbors=5)),\n",
    "])"
   ]
  },
  {
   "cell_type": "markdown",
   "metadata": {},
   "source": [
    "Evaluate the pipeline using stratified 10-fold cross-validation with the balanced-accuracy scoring metric to choose the correct statement in the list below.\n",
    "\n",
    "You can use:\n",
    "\n",
    "sklearn.model_selection.cross_validate to perform the cross-validation routine;\n",
    "provide an integer 10 to the parameter cv of cross_validate to use the cross-validation with 10 folds;\n",
    "provide the string \"balanced_accuracy\" to the parameter scoring of cross_validate."
   ]
  },
  {
   "cell_type": "markdown",
   "metadata": {},
   "source": [
    "a) The average cross-validated test balanced accuracy of the above pipeline is between 0.9 and 1.0\n",
    "\n",
    "b) The average cross-validated test balanced accuracy of the above pipeline is between 0.8 and 0.9\n",
    "\n",
    "c) The average cross-validated test balanced accuracy of the above pipeline is between 0.5 and 0.8"
   ]
  },
  {
   "cell_type": "code",
   "execution_count": 7,
   "metadata": {},
   "outputs": [
    {
     "data": {
      "text/plain": [
       "{'fit_time': array([0.00473571, 0.00671792, 0.00407672, 0.00412583, 0.00370669,\n",
       "        0.00384164, 0.00391388, 0.00363302, 0.00362539, 0.0036366 ]),\n",
       " 'score_time': array([0.00366426, 0.00392079, 0.003793  , 0.00353646, 0.00354743,\n",
       "        0.00359511, 0.0035336 , 0.00342464, 0.00345469, 0.00377893]),\n",
       " 'test_score': array([1.        , 1.        , 1.        , 0.91880342, 0.88253968,\n",
       "        0.95238095, 0.97777778, 0.93015873, 0.90793651, 0.95238095])}"
      ]
     },
     "execution_count": 7,
     "metadata": {},
     "output_type": "execute_result"
    }
   ],
   "source": [
    "from sklearn.model_selection import cross_validate\n",
    "\n",
    "cv_results = cross_validate(model, data, target, cv=10, n_jobs=2, scoring=\"balanced_accuracy\")\n",
    "\n",
    "cv_results"
   ]
  },
  {
   "cell_type": "markdown",
   "metadata": {},
   "source": [
    "Repeat the evaluation by setting the parameters in order to select the correct statements in the list below. We recall that you can use model.get_params() to list the parameters of the pipeline and use model.set_params(param_name=param_value) to update them. Remember that one way to compare two models is comparing the cross-validation test scores of both models fold-to-fold, i.e. counting the number of folds where one model has a better test score than the other.\n",
    "\n",
    " a) Looking at the individual cross-validation scores, using a model with n_neighbors=5 is substantially better (at least 7 of the cross-validations scores are better) than a model with n_neighbors=51\n",
    " \n",
    " b) Looking at the individual cross-validation scores, using a model with n_neighbors=5 is substantially better (at least 7 of the cross-validations scores are better) than a model with n_neighbors=101\n",
    " \n",
    " c) Looking at the individual cross-validation scores, a 5 nearest neighbors using a StandardScaler is substantially better (at least 7 of the cross-validations scores are better) than a 5 nearest neighbors using the raw features (without scaling)."
   ]
  },
  {
   "cell_type": "code",
   "execution_count": 21,
   "metadata": {},
   "outputs": [
    {
     "name": "stdout",
     "output_type": "stream",
     "text": [
      "CPU times: user 38.2 ms, sys: 0 ns, total: 38.2 ms\n",
      "Wall time: 137 ms\n"
     ]
    },
    {
     "data": {
      "text/html": [
       "<div>\n",
       "<style scoped>\n",
       "    .dataframe tbody tr th:only-of-type {\n",
       "        vertical-align: middle;\n",
       "    }\n",
       "\n",
       "    .dataframe tbody tr th {\n",
       "        vertical-align: top;\n",
       "    }\n",
       "\n",
       "    .dataframe thead th {\n",
       "        text-align: right;\n",
       "    }\n",
       "</style>\n",
       "<table border=\"1\" class=\"dataframe\">\n",
       "  <thead>\n",
       "    <tr style=\"text-align: right;\">\n",
       "      <th></th>\n",
       "      <th>mean_fit_time</th>\n",
       "      <th>std_fit_time</th>\n",
       "      <th>mean_score_time</th>\n",
       "      <th>std_score_time</th>\n",
       "      <th>param_classifier__n_neighbors</th>\n",
       "      <th>params</th>\n",
       "      <th>split0_test_score</th>\n",
       "      <th>split1_test_score</th>\n",
       "      <th>split2_test_score</th>\n",
       "      <th>split3_test_score</th>\n",
       "      <th>split4_test_score</th>\n",
       "      <th>split5_test_score</th>\n",
       "      <th>split6_test_score</th>\n",
       "      <th>split7_test_score</th>\n",
       "      <th>split8_test_score</th>\n",
       "      <th>split9_test_score</th>\n",
       "      <th>mean_test_score</th>\n",
       "      <th>std_test_score</th>\n",
       "      <th>rank_test_score</th>\n",
       "    </tr>\n",
       "  </thead>\n",
       "  <tbody>\n",
       "    <tr>\n",
       "      <th>0</th>\n",
       "      <td>0.003848</td>\n",
       "      <td>0.000449</td>\n",
       "      <td>0.003113</td>\n",
       "      <td>0.000290</td>\n",
       "      <td>5</td>\n",
       "      <td>{'classifier__n_neighbors': 5}</td>\n",
       "      <td>1.000000</td>\n",
       "      <td>1.000000</td>\n",
       "      <td>1.000000</td>\n",
       "      <td>0.941176</td>\n",
       "      <td>0.911765</td>\n",
       "      <td>0.970588</td>\n",
       "      <td>0.970588</td>\n",
       "      <td>0.941176</td>\n",
       "      <td>0.911765</td>\n",
       "      <td>0.970588</td>\n",
       "      <td>0.961765</td>\n",
       "      <td>0.032353</td>\n",
       "      <td>1</td>\n",
       "    </tr>\n",
       "    <tr>\n",
       "      <th>1</th>\n",
       "      <td>0.004083</td>\n",
       "      <td>0.000972</td>\n",
       "      <td>0.003288</td>\n",
       "      <td>0.000137</td>\n",
       "      <td>51</td>\n",
       "      <td>{'classifier__n_neighbors': 51}</td>\n",
       "      <td>0.971429</td>\n",
       "      <td>0.971429</td>\n",
       "      <td>1.000000</td>\n",
       "      <td>0.911765</td>\n",
       "      <td>0.911765</td>\n",
       "      <td>0.970588</td>\n",
       "      <td>0.941176</td>\n",
       "      <td>0.970588</td>\n",
       "      <td>0.941176</td>\n",
       "      <td>0.970588</td>\n",
       "      <td>0.956050</td>\n",
       "      <td>0.027209</td>\n",
       "      <td>2</td>\n",
       "    </tr>\n",
       "    <tr>\n",
       "      <th>2</th>\n",
       "      <td>0.003850</td>\n",
       "      <td>0.000792</td>\n",
       "      <td>0.003496</td>\n",
       "      <td>0.000131</td>\n",
       "      <td>101</td>\n",
       "      <td>{'classifier__n_neighbors': 101}</td>\n",
       "      <td>0.914286</td>\n",
       "      <td>0.971429</td>\n",
       "      <td>0.970588</td>\n",
       "      <td>0.911765</td>\n",
       "      <td>0.882353</td>\n",
       "      <td>0.911765</td>\n",
       "      <td>0.882353</td>\n",
       "      <td>0.911765</td>\n",
       "      <td>0.882353</td>\n",
       "      <td>0.941176</td>\n",
       "      <td>0.917983</td>\n",
       "      <td>0.031780</td>\n",
       "      <td>3</td>\n",
       "    </tr>\n",
       "  </tbody>\n",
       "</table>\n",
       "</div>"
      ],
      "text/plain": [
       "   mean_fit_time  std_fit_time  mean_score_time  std_score_time  \\\n",
       "0       0.003848      0.000449         0.003113        0.000290   \n",
       "1       0.004083      0.000972         0.003288        0.000137   \n",
       "2       0.003850      0.000792         0.003496        0.000131   \n",
       "\n",
       "  param_classifier__n_neighbors                            params  \\\n",
       "0                             5    {'classifier__n_neighbors': 5}   \n",
       "1                            51   {'classifier__n_neighbors': 51}   \n",
       "2                           101  {'classifier__n_neighbors': 101}   \n",
       "\n",
       "   split0_test_score  split1_test_score  split2_test_score  split3_test_score  \\\n",
       "0           1.000000           1.000000           1.000000           0.941176   \n",
       "1           0.971429           0.971429           1.000000           0.911765   \n",
       "2           0.914286           0.971429           0.970588           0.911765   \n",
       "\n",
       "   split4_test_score  split5_test_score  split6_test_score  split7_test_score  \\\n",
       "0           0.911765           0.970588           0.970588           0.941176   \n",
       "1           0.911765           0.970588           0.941176           0.970588   \n",
       "2           0.882353           0.911765           0.882353           0.911765   \n",
       "\n",
       "   split8_test_score  split9_test_score  mean_test_score  std_test_score  \\\n",
       "0           0.911765           0.970588         0.961765        0.032353   \n",
       "1           0.941176           0.970588         0.956050        0.027209   \n",
       "2           0.882353           0.941176         0.917983        0.031780   \n",
       "\n",
       "   rank_test_score  \n",
       "0                1  \n",
       "1                2  \n",
       "2                3  "
      ]
     },
     "execution_count": 21,
     "metadata": {},
     "output_type": "execute_result"
    }
   ],
   "source": [
    "%%time\n",
    "from sklearn.model_selection import GridSearchCV\n",
    "\n",
    "param_grid = {\n",
    "    'classifier__n_neighbors': (5, 51, 101)\n",
    "}\n",
    "model_grid_search = GridSearchCV(model, param_grid=param_grid,\n",
    "                                 n_jobs=2, cv=10)\n",
    "model_grid_search.fit(data, target)\n",
    "\n",
    "cv_results = pd.DataFrame(model_grid_search.cv_results_).sort_values(\n",
    "    \"mean_test_score\", ascending=False)\n",
    "cv_results.head()"
   ]
  },
  {
   "cell_type": "markdown",
   "metadata": {},
   "source": [
    "Vemos que 5 y 51 funcionan parecido pero siempre mejor que sin escalar. Tiene sentido, al ser un modelo basado en distancias."
   ]
  },
  {
   "cell_type": "code",
   "execution_count": 20,
   "metadata": {},
   "outputs": [
    {
     "data": {
      "text/html": [
       "<div>\n",
       "<style scoped>\n",
       "    .dataframe tbody tr th:only-of-type {\n",
       "        vertical-align: middle;\n",
       "    }\n",
       "\n",
       "    .dataframe tbody tr th {\n",
       "        vertical-align: top;\n",
       "    }\n",
       "\n",
       "    .dataframe thead th {\n",
       "        text-align: right;\n",
       "    }\n",
       "</style>\n",
       "<table border=\"1\" class=\"dataframe\">\n",
       "  <thead>\n",
       "    <tr style=\"text-align: right;\">\n",
       "      <th></th>\n",
       "      <th>fit_time</th>\n",
       "      <th>score_time</th>\n",
       "      <th>test_score</th>\n",
       "    </tr>\n",
       "  </thead>\n",
       "  <tbody>\n",
       "    <tr>\n",
       "      <th>0</th>\n",
       "      <td>0.003432</td>\n",
       "      <td>0.003328</td>\n",
       "      <td>0.742857</td>\n",
       "    </tr>\n",
       "    <tr>\n",
       "      <th>1</th>\n",
       "      <td>0.003489</td>\n",
       "      <td>0.003238</td>\n",
       "      <td>0.800000</td>\n",
       "    </tr>\n",
       "    <tr>\n",
       "      <th>2</th>\n",
       "      <td>0.002327</td>\n",
       "      <td>0.002955</td>\n",
       "      <td>0.794118</td>\n",
       "    </tr>\n",
       "    <tr>\n",
       "      <th>3</th>\n",
       "      <td>0.002425</td>\n",
       "      <td>0.003005</td>\n",
       "      <td>0.794118</td>\n",
       "    </tr>\n",
       "    <tr>\n",
       "      <th>4</th>\n",
       "      <td>0.002295</td>\n",
       "      <td>0.002899</td>\n",
       "      <td>0.647059</td>\n",
       "    </tr>\n",
       "    <tr>\n",
       "      <th>5</th>\n",
       "      <td>0.002113</td>\n",
       "      <td>0.002912</td>\n",
       "      <td>0.764706</td>\n",
       "    </tr>\n",
       "    <tr>\n",
       "      <th>6</th>\n",
       "      <td>0.002247</td>\n",
       "      <td>0.003214</td>\n",
       "      <td>0.882353</td>\n",
       "    </tr>\n",
       "    <tr>\n",
       "      <th>7</th>\n",
       "      <td>0.002121</td>\n",
       "      <td>0.002936</td>\n",
       "      <td>0.794118</td>\n",
       "    </tr>\n",
       "    <tr>\n",
       "      <th>8</th>\n",
       "      <td>0.002106</td>\n",
       "      <td>0.002814</td>\n",
       "      <td>0.911765</td>\n",
       "    </tr>\n",
       "    <tr>\n",
       "      <th>9</th>\n",
       "      <td>0.002066</td>\n",
       "      <td>0.002910</td>\n",
       "      <td>0.852941</td>\n",
       "    </tr>\n",
       "  </tbody>\n",
       "</table>\n",
       "</div>"
      ],
      "text/plain": [
       "   fit_time  score_time  test_score\n",
       "0  0.003432    0.003328    0.742857\n",
       "1  0.003489    0.003238    0.800000\n",
       "2  0.002327    0.002955    0.794118\n",
       "3  0.002425    0.003005    0.794118\n",
       "4  0.002295    0.002899    0.647059\n",
       "5  0.002113    0.002912    0.764706\n",
       "6  0.002247    0.003214    0.882353\n",
       "7  0.002121    0.002936    0.794118\n",
       "8  0.002106    0.002814    0.911765\n",
       "9  0.002066    0.002910    0.852941"
      ]
     },
     "execution_count": 20,
     "metadata": {},
     "output_type": "execute_result"
    }
   ],
   "source": [
    "unscaled_model = KNeighborsClassifier(n_neighbors=5)\n",
    "\n",
    "\n",
    "cv_results = cross_validate(unscaled_model, data, target, cv=10, n_jobs=2)\n",
    "cv_results = pd.DataFrame(cv_results)\n",
    "cv_results"
   ]
  }
 ],
 "metadata": {
  "kernelspec": {
   "display_name": "Python 3 (ipykernel)",
   "language": "python",
   "name": "python3"
  },
  "language_info": {
   "codemirror_mode": {
    "name": "ipython",
    "version": 3
   },
   "file_extension": ".py",
   "mimetype": "text/x-python",
   "name": "python",
   "nbconvert_exporter": "python",
   "pygments_lexer": "ipython3",
   "version": "3.9.10"
  }
 },
 "nbformat": 4,
 "nbformat_minor": 4
}
